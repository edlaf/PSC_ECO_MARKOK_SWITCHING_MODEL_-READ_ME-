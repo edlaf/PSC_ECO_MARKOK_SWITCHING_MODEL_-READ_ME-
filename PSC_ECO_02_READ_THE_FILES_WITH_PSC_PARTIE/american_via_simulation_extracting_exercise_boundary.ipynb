{
 "cells": [
  {
   "cell_type": "markdown",
   "metadata": {},
   "source": [
    "# Monte Carlo Simulation for FE\n",
    "## IEOR 4703"
   ]
  },
  {
   "cell_type": "markdown",
   "metadata": {},
   "source": [
    "## American option pricing via simulation: extracting the exercise boundary"
   ]
  },
  {
   "cell_type": "code",
   "execution_count": 1,
   "metadata": {},
   "outputs": [],
   "source": [
    "import numpy as np\n",
    "from time import time\n",
    "import matplotlib.pyplot as plt\n",
    "%matplotlib inline\n",
    "# import our polynomial function\n",
    "from polynomials import constructX\n",
    "# linear regression\n",
    "from sklearn.linear_model import LinearRegression"
   ]
  },
  {
   "cell_type": "markdown",
   "metadata": {},
   "source": [
    "Parameters"
   ]
  },
  {
   "cell_type": "code",
   "execution_count": 2,
   "metadata": {},
   "outputs": [],
   "source": [
    "r = 0.10\n",
    "q = 0.01\n",
    "s0 = 100\n",
    "K = 100\n",
    "sig = 0.40\n",
    "T = 1\n",
    "\n",
    "m = 365 # daily excercise\n",
    "numPaths = 50000\n",
    "\n",
    "dt = T/m\n",
    "indicators = np.zeros(numPaths)"
   ]
  },
  {
   "cell_type": "markdown",
   "metadata": {},
   "source": [
    "Algorithm"
   ]
  },
  {
   "cell_type": "code",
   "execution_count": 3,
   "metadata": {},
   "outputs": [
    {
     "name": "stdout",
     "output_type": "stream",
     "text": [
      "Number of sims: 50000\n",
      "Elapsed times was 9.083342 seconds\n",
      "American price: 12.193514\n"
     ]
    }
   ],
   "source": [
    "np.random.seed(4456129)\n",
    "\n",
    "sMin = 10\n",
    "sMax = 610\n",
    "\n",
    "# number of basis\n",
    "d = 5\n",
    "\n",
    "typeOfPolynomial = 'Chebychev_firstKind'\n",
    "\n",
    "st = time()\n",
    "\n",
    "#Initiate paths (not efficient; we should utilize the Brownian Bridge)\n",
    "# simulate stock prices\n",
    "s = np.zeros((m+1, numPaths))\n",
    "t = np.linspace(0, T, m+1)\n",
    "z = np.random.randn(m, numPaths)\n",
    "delta_log_s = (r - q - sig*sig/2)*dt + sig*np.sqrt(dt)*z\n",
    "log_s = np.zeros((m+1, numPaths))\n",
    "log_s[0,:] = np.log(s0)\n",
    "log_s[1:,:] = delta_log_s\n",
    "log_s = np.cumsum(log_s, 0)\n",
    "s = np.exp(log_s)\n",
    "\n",
    "P = np.maximum(K - s[m,:], 0)\n",
    "#print(np.exp(-r*T)*np.mean(P))\n",
    "vHat = np.zeros(numPaths)\n",
    "sArray = np.zeros(m+1)\n",
    "sArray[m] = K\n",
    "\n",
    "for i in np.arange(m-1, 0, -1):\n",
    "    s_i = s[i, :]\n",
    "    g = np.maximum(K - s_i, 0)\n",
    "    # in-the-money indicator\n",
    "    indicator = (g > 0)\n",
    "    xi = s_i[indicator]\n",
    "    if typeOfPolynomial == 'Laguerre':\n",
    "        xXi = constructX(xi, typeOfPolynomial, d)\n",
    "    elif typeOfPolynomial == 'Chebychev_firstKind' or typeOfPolynomial == 'Chebychev_secondKind':\n",
    "        # make it shifted from (-1,1) to (sMin, sMax)\n",
    "        xXi = constructX(2*(xi - sMin)/(sMax - sMin) - 1, typeOfPolynomial, d)\n",
    "    yi = np.exp(-r*dt)*P[indicator]\n",
    "    # regression\n",
    "    reg = LinearRegression(fit_intercept=False).fit(xXi, yi)\n",
    "    alpha = reg.coef_\n",
    "    vH = np.dot(xXi, alpha)\n",
    "    vHat[indicator] = vH\n",
    "    \n",
    "    len1 = len(xi)\n",
    "    tmp = np.zeros((len1, 3))\n",
    "    tmp[:, 0] = xi\n",
    "    tmp[:, 1] = np.maximum(K - xi, 0)\n",
    "    tmp[:, 2] = vH\n",
    "    # sort tmp by xi\n",
    "    tmp = tmp[tmp[:,0].argsort()]\n",
    "    for j in np.arange(len1-1, -1, -1):\n",
    "        if tmp[j,2] <= tmp[j,1]:\n",
    "            sArray[i] = tmp[j,0]\n",
    "            #print('%i, %f' % (i+1, sArray[i]))\n",
    "            break\n",
    "    \n",
    "    indx = np.logical_and(indicator, g > vHat)\n",
    "    P[indx] = g[indx]\n",
    "    P[~indx] = np.exp(-r*dt)*P[~indx]\n",
    "\n",
    "et = time()\n",
    "    \n",
    "print('Number of sims: %i' % numPaths)\n",
    "print('Elapsed times was %f seconds' % (et-st))\n",
    "premiumHat = np.exp(-r*dt) * np.mean(P)\n",
    "print('American price: %f' % premiumHat)"
   ]
  },
  {
   "cell_type": "code",
   "execution_count": 16,
   "metadata": {},
   "outputs": [
    {
     "data": {
      "image/png": "[encoded data removed]",
      "text/plain": [
       "<Figure size 432x288 with 1 Axes>"
      ]
     },
     "metadata": {
      "needs_background": "light"
     },
     "output_type": "display_data"
    }
   ],
   "source": [
    "# load the exercise boundary\n",
    "exerciseBoundary = np.loadtxt('exerciseBoundaryPut.dat')\n",
    "plt.figure()\n",
    "plt.plot(t, exerciseBoundary)\n",
    "plt.plot(t, sArray)\n",
    "plt.title('Optimal exercise boundary (put)')\n",
    "plt.xlabel(r'$\\tau$')\n",
    "plt.ylabel('$S^*_t$')\n",
    "plt.show()"
   ]
  },
  {
   "cell_type": "code",
   "execution_count": null,
   "metadata": {},
   "outputs": [],
   "source": []
  }
 ],
 "metadata": {
  "kernelspec": {
   "display_name": "Python 3 (ipykernel)",
   "language": "python",
   "name": "python3"
  },
  "language_info": {
   "codemirror_mode": {
    "name": "ipython",
    "version": 3
   },
   "file_extension": ".py",
   "mimetype": "text/x-python",
   "name": "python",
   "nbconvert_exporter": "python",
   "pygments_lexer": "ipython3",
   "version": "3.8.18"
  }
 },
 "nbformat": 4,
 "nbformat_minor": 2
}
